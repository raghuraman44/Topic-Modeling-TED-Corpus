{
 "cells": [
  {
   "cell_type": "markdown",
   "metadata": {},
   "source": [
    "# DIGI405-20S1 - Topic Modeling TED.com transcripts\n",
    "\n",
    "This notebook introduces Gensim for topic modeling of  The TED.com corpus.\n",
    "\n",
    "Since we need to evaluate topic models against a use case - think about the idea of a recommendation engine: what model performs best for finding similiar TED talks?"
   ]
  },
  {
   "cell_type": "code",
   "execution_count": 1,
   "metadata": {},
   "outputs": [],
   "source": [
    "import gensim\n",
    "import gensim.corpora as corpora\n",
    "from gensim.utils import simple_preprocess\n",
    "from gensim.models.wrappers import LdaMallet\n",
    "from gensim.models.coherencemodel import CoherenceModel\n",
    "from gensim import similarities\n",
    "\n",
    "import os.path\n",
    "import re\n",
    "import glob\n",
    "\n",
    "import pandas as pd\n",
    "import matplotlib as plt\n",
    "\n",
    "mallet_path = '/opt/mallet-2.0.8/bin/mallet' # this should be the correct path for the DIGI405 lab workrooms"
   ]
  },
  {
   "cell_type": "code",
   "execution_count": 2,
   "metadata": {},
   "outputs": [],
   "source": [
    "# to install nltk run this in Anaconda prompt: pip install nltk \n",
    "# note if you get an error with stopwords below then uncomment the following lines and rerun this cell \n",
    "# import nltk\n",
    "# nltk.download('stopwords')\n",
    "\n",
    "from nltk.tokenize import RegexpTokenizer\n",
    "from nltk.corpus import stopwords"
   ]
  },
  {
   "cell_type": "markdown",
   "metadata": {},
   "source": [
    "The following cells contain functions to load a corpus from a directory of text files, preprocess the corpus and create the bag of words document-term matrix. "
   ]
  },
  {
   "cell_type": "code",
   "execution_count": 3,
   "metadata": {},
   "outputs": [],
   "source": [
    "def load_data_from_dir(path):\n",
    "    file_list = glob.glob(path + '/*.txt')\n",
    "\n",
    "    # create document list:\n",
    "    documents_list = []\n",
    "    for filename in file_list:\n",
    "        with open(filename, 'r', encoding='utf8') as f:\n",
    "            text = f.read()\n",
    "            f.close()\n",
    "            documents_list.append(text)\n",
    "    print(\"Total Number of Documents:\",len(documents_list))\n",
    "    return documents_list"
   ]
  },
  {
   "cell_type": "code",
   "execution_count": 4,
   "metadata": {},
   "outputs": [],
   "source": [
    "def preprocess_data(doc_set,extra_stopwords = {}):\n",
    "    # adapted from https://www.datacamp.com/community/tutorials/discovering-hidden-topics-python\n",
    "    # replace all newlines or multiple sequences of spaces with a standard space\n",
    "    doc_set = [re.sub('\\s+', ' ', doc) for doc in doc_set]\n",
    "    # initialize regex tokenizer\n",
    "    tokenizer = RegexpTokenizer(r'\\w+')\n",
    "    # create English stop words list\n",
    "    en_stop = set(stopwords.words('english'))\n",
    "    # add any extra stopwords\n",
    "    if (len(extra_stopwords) > 0):\n",
    "        en_stop = en_stop.union(extra_stopwords)\n",
    "    \n",
    "    # list for tokenized documents in loop\n",
    "    texts = []\n",
    "    # loop through document list\n",
    "    for i in doc_set:\n",
    "        # clean and tokenize document string\n",
    "        raw = i.lower()\n",
    "        tokens = tokenizer.tokenize(raw)\n",
    "        # remove stop words from tokens\n",
    "        stopped_tokens = [i for i in tokens if not i in en_stop]\n",
    "        # add tokens to list\n",
    "        texts.append(stopped_tokens)\n",
    "    return texts"
   ]
  },
  {
   "cell_type": "code",
   "execution_count": 5,
   "metadata": {},
   "outputs": [],
   "source": [
    "def prepare_corpus(doc_clean):\n",
    "    # adapted from https://www.datacamp.com/community/tutorials/discovering-hidden-topics-python\n",
    "    # Creating the term dictionary of our courpus, where every unique term is assigned an index. dictionary = corpora.Dictionary(doc_clean)\n",
    "    dictionary = corpora.Dictionary(doc_clean)\n",
    "    \n",
    "    dictionary.filter_extremes(no_below=5, no_above=0.5)\n",
    "    # Converting list of documents (corpus) into Document Term Matrix using dictionary prepared above.\n",
    "    doc_term_matrix = [dictionary.doc2bow(doc) for doc in doc_clean]\n",
    "\n",
    "    return dictionary,doc_term_matrix"
   ]
  },
  {
   "cell_type": "markdown",
   "metadata": {},
   "source": [
    "## Load and pre-process the corpus\n",
    "Load the corpus, preprocess with additional stop words and output dictionary and document-term matrix."
   ]
  },
  {
   "cell_type": "code",
   "execution_count": 6,
   "metadata": {},
   "outputs": [
    {
     "name": "stdout",
     "output_type": "stream",
     "text": [
      "Total Number of Documents: 3603\n"
     ]
    }
   ],
   "source": [
    "# Getting the TED Corpus\n",
    "document_list = load_data_from_dir(\"transcripts\")\n",
    "\n",
    "# Adding NLTK's stopword list\n",
    "doc_clean = preprocess_data(document_list,{'laughter','applause'})\n",
    "\n",
    "dictionary, doc_term_matrix = prepare_corpus(doc_clean)"
   ]
  },
  {
   "cell_type": "markdown",
   "metadata": {},
   "source": [
    "## LDA model with 20 topics\n",
    "The following cell sets the number of topics we are training the model for. The one after trains the model and outputs the topics. Note: this can take a while!"
   ]
  },
  {
   "cell_type": "code",
   "execution_count": 7,
   "metadata": {},
   "outputs": [],
   "source": [
    "number_of_topics= 45 # adjust this to alter the number of topics\n",
    "words=20 #adjust this to alter the number of words output for the topic below"
   ]
  },
  {
   "cell_type": "code",
   "execution_count": 8,
   "metadata": {},
   "outputs": [],
   "source": [
    "# runs LDA using Mallet from gensim using the number_of_topics specified above - this might take a couple of minutes\n",
    "# create additional variables eg ldamallet20 to store models with different numbers of topics\n",
    "ldamallet45 = LdaMallet(mallet_path, corpus=doc_term_matrix, num_topics=number_of_topics, id2word=dictionary)"
   ]
  },
  {
   "cell_type": "code",
   "execution_count": 9,
   "metadata": {
    "scrolled": true
   },
   "outputs": [
    {
     "data": {
      "text/plain": [
       "[(0,\n",
       "  '0.019*\"body\" + 0.018*\"robot\" + 0.012*\"robots\" + 0.011*\"fly\" + 0.011*\"move\" + 0.009*\"feet\" + 0.009*\"legs\" + 0.007*\"foot\" + 0.007*\"air\" + 0.007*\"flying\" + 0.007*\"moving\" + 0.006*\"control\" + 0.006*\"speed\" + 0.006*\"arm\" + 0.006*\"flight\" + 0.005*\"video\" + 0.005*\"leg\" + 0.005*\"side\" + 0.005*\"ground\" + 0.004*\"small\"'),\n",
       " (1,\n",
       "  '0.055*\"earth\" + 0.029*\"planet\" + 0.028*\"space\" + 0.014*\"mars\" + 0.014*\"moon\" + 0.013*\"system\" + 0.011*\"planets\" + 0.010*\"surface\" + 0.009*\"sun\" + 0.009*\"solar\" + 0.009*\"science\" + 0.007*\"atmosphere\" + 0.007*\"star\" + 0.006*\"nasa\" + 0.006*\"clouds\" + 0.006*\"ice\" + 0.005*\"satellite\" + 0.005*\"picture\" + 0.005*\"place\" + 0.005*\"stars\"'),\n",
       " (2,\n",
       "  '0.019*\"sleep\" + 0.015*\"feel\" + 0.013*\"pain\" + 0.012*\"happiness\" + 0.011*\"mind\" + 0.011*\"stress\" + 0.011*\"experience\" + 0.011*\"mental\" + 0.010*\"attention\" + 0.010*\"emotions\" + 0.010*\"depression\" + 0.009*\"happy\" + 0.009*\"feeling\" + 0.007*\"emotional\" + 0.007*\"physical\" + 0.006*\"emotion\" + 0.006*\"response\" + 0.006*\"anxiety\" + 0.005*\"body\" + 0.005*\"disorder\"'),\n",
       " (3,\n",
       "  '0.018*\"hand\" + 0.012*\"left\" + 0.010*\"box\" + 0.009*\"hold\" + 0.009*\"color\" + 0.009*\"line\" + 0.009*\"room\" + 0.009*\"blue\" + 0.008*\"hands\" + 0.008*\"side\" + 0.008*\"green\" + 0.008*\"red\" + 0.008*\"open\" + 0.008*\"audience\" + 0.008*\"moment\" + 0.008*\"turn\" + 0.007*\"number\" + 0.007*\"start\" + 0.007*\"yeah\" + 0.006*\"front\"'),\n",
       " (4,\n",
       "  '0.040*\"language\" + 0.036*\"words\" + 0.028*\"word\" + 0.023*\"read\" + 0.020*\"book\" + 0.019*\"english\" + 0.018*\"write\" + 0.016*\"writing\" + 0.011*\"books\" + 0.011*\"reading\" + 0.010*\"speak\" + 0.010*\"written\" + 0.009*\"learn\" + 0.008*\"languages\" + 0.008*\"letters\" + 0.007*\"letter\" + 0.007*\"speaking\" + 0.007*\"meaning\" + 0.006*\"wrote\" + 0.006*\"understand\"'),\n",
       " (5,\n",
       "  '0.072*\"water\" + 0.012*\"river\" + 0.009*\"place\" + 0.009*\"mountain\" + 0.007*\"desert\" + 0.007*\"area\" + 0.007*\"land\" + 0.007*\"feet\" + 0.007*\"rain\" + 0.006*\"000\" + 0.006*\"mountains\" + 0.006*\"sand\" + 0.005*\"incredible\" + 0.005*\"south\" + 0.005*\"air\" + 0.005*\"dry\" + 0.005*\"ago\" + 0.005*\"fire\" + 0.005*\"inside\" + 0.004*\"coming\"'),\n",
       " (6,\n",
       "  '0.024*\"internet\" + 0.022*\"information\" + 0.018*\"media\" + 0.017*\"online\" + 0.010*\"google\" + 0.010*\"facebook\" + 0.010*\"web\" + 0.009*\"open\" + 0.008*\"content\" + 0.008*\"news\" + 0.007*\"twitter\" + 0.006*\"phone\" + 0.006*\"public\" + 0.006*\"website\" + 0.006*\"email\" + 0.006*\"social\" + 0.006*\"share\" + 0.005*\"free\" + 0.005*\"page\" + 0.005*\"government\"'),\n",
       " (7,\n",
       "  '0.030*\"health\" + 0.024*\"cancer\" + 0.022*\"disease\" + 0.019*\"medical\" + 0.019*\"patients\" + 0.019*\"care\" + 0.015*\"patient\" + 0.013*\"heart\" + 0.012*\"treatment\" + 0.011*\"doctors\" + 0.011*\"blood\" + 0.011*\"doctor\" + 0.010*\"drug\" + 0.010*\"hospital\" + 0.010*\"medicine\" + 0.010*\"drugs\" + 0.008*\"hiv\" + 0.007*\"diseases\" + 0.007*\"surgery\" + 0.006*\"risk\"'),\n",
       " (8,\n",
       "  '0.032*\"countries\" + 0.029*\"africa\" + 0.022*\"china\" + 0.020*\"country\" + 0.015*\"india\" + 0.015*\"global\" + 0.012*\"growth\" + 0.010*\"chinese\" + 0.010*\"economic\" + 0.010*\"states\" + 0.009*\"united\" + 0.009*\"african\" + 0.009*\"europe\" + 0.008*\"population\" + 0.008*\"percent\" + 0.007*\"economy\" + 0.006*\"income\" + 0.006*\"west\" + 0.006*\"rich\" + 0.005*\"century\"'),\n",
       " (9,\n",
       "  '0.016*\"home\" + 0.015*\"started\" + 0.014*\"thought\" + 0.014*\"wanted\" + 0.014*\"told\" + 0.013*\"mother\" + 0.012*\"family\" + 0.012*\"father\" + 0.012*\"knew\" + 0.011*\"asked\" + 0.011*\"man\" + 0.010*\"story\" + 0.009*\"night\" + 0.008*\"days\" + 0.008*\"found\" + 0.008*\"met\" + 0.008*\"decided\" + 0.007*\"looked\" + 0.007*\"house\" + 0.007*\"felt\"'),\n",
       " (10,\n",
       "  '0.030*\"art\" + 0.023*\"stories\" + 0.020*\"story\" + 0.015*\"film\" + 0.013*\"images\" + 0.010*\"show\" + 0.010*\"artist\" + 0.010*\"image\" + 0.009*\"movie\" + 0.009*\"project\" + 0.008*\"artists\" + 0.007*\"painting\" + 0.007*\"pictures\" + 0.007*\"beauty\" + 0.006*\"museum\" + 0.006*\"camera\" + 0.006*\"create\" + 0.006*\"theater\" + 0.005*\"created\" + 0.005*\"beautiful\"'),\n",
       " (11,\n",
       "  '0.057*\"city\" + 0.029*\"cities\" + 0.013*\"public\" + 0.013*\"place\" + 0.012*\"live\" + 0.012*\"york\" + 0.011*\"community\" + 0.011*\"home\" + 0.010*\"street\" + 0.010*\"places\" + 0.010*\"building\" + 0.010*\"urban\" + 0.008*\"space\" + 0.008*\"house\" + 0.008*\"built\" + 0.008*\"park\" + 0.008*\"streets\" + 0.008*\"neighborhood\" + 0.008*\"local\" + 0.007*\"living\"'),\n",
       " (12,\n",
       "  '0.028*\"study\" + 0.026*\"research\" + 0.019*\"found\" + 0.016*\"social\" + 0.014*\"group\" + 0.013*\"science\" + 0.010*\"studies\" + 0.009*\"behavior\" + 0.007*\"age\" + 0.007*\"experiment\" + 0.007*\"effect\" + 0.007*\"turns\" + 0.006*\"scientists\" + 0.006*\"percent\" + 0.006*\"person\" + 0.006*\"older\" + 0.006*\"test\" + 0.006*\"positive\" + 0.005*\"results\" + 0.005*\"asked\"'),\n",
       " (13,\n",
       "  '0.038*\"talk\" + 0.021*\"idea\" + 0.019*\"ca\" + 0.016*\"ted\" + 0.016*\"important\" + 0.015*\"talking\" + 0.013*\"amazing\" + 0.013*\"bit\" + 0.012*\"point\" + 0.011*\"big\" + 0.010*\"yeah\" + 0.010*\"happen\" + 0.009*\"ago\" + 0.009*\"start\" + 0.009*\"coming\" + 0.009*\"change\" + 0.009*\"wonderful\" + 0.008*\"chris\" + 0.008*\"absolutely\" + 0.008*\"question\"'),\n",
       " (14,\n",
       "  '0.049*\"design\" + 0.030*\"building\" + 0.014*\"build\" + 0.013*\"create\" + 0.012*\"architecture\" + 0.011*\"space\" + 0.011*\"materials\" + 0.010*\"material\" + 0.010*\"designed\" + 0.010*\"project\" + 0.009*\"process\" + 0.009*\"built\" + 0.008*\"structure\" + 0.008*\"form\" + 0.008*\"idea\" + 0.008*\"buildings\" + 0.007*\"designers\" + 0.007*\"working\" + 0.006*\"nature\" + 0.006*\"beautiful\"'),\n",
       " (15,\n",
       "  '0.020*\"god\" + 0.012*\"man\" + 0.010*\"human\" + 0.010*\"compassion\" + 0.010*\"century\" + 0.010*\"story\" + 0.009*\"religion\" + 0.008*\"death\" + 0.008*\"religious\" + 0.007*\"history\" + 0.007*\"culture\" + 0.007*\"faith\" + 0.006*\"king\" + 0.006*\"live\" + 0.005*\"book\" + 0.005*\"church\" + 0.004*\"tradition\" + 0.004*\"humanity\" + 0.004*\"sense\" + 0.004*\"nature\"'),\n",
       " (16,\n",
       "  '0.017*\"guy\" + 0.012*\"guys\" + 0.012*\"talk\" + 0.012*\"bad\" + 0.012*\"call\" + 0.010*\"talking\" + 0.009*\"thinking\" + 0.008*\"start\" + 0.008*\"room\" + 0.008*\"feel\" + 0.008*\"yeah\" + 0.008*\"person\" + 0.007*\"show\" + 0.007*\"stuff\" + 0.007*\"kid\" + 0.007*\"hey\" + 0.007*\"remember\" + 0.007*\"morning\" + 0.006*\"god\" + 0.006*\"stop\"'),\n",
       " (17,\n",
       "  '0.092*\"brain\" + 0.014*\"brains\" + 0.012*\"memory\" + 0.012*\"neurons\" + 0.009*\"body\" + 0.009*\"consciousness\" + 0.008*\"information\" + 0.007*\"activity\" + 0.007*\"visual\" + 0.006*\"signals\" + 0.006*\"mind\" + 0.006*\"system\" + 0.005*\"understand\" + 0.005*\"control\" + 0.005*\"cortex\" + 0.005*\"normal\" + 0.005*\"electrical\" + 0.005*\"behavior\" + 0.004*\"show\" + 0.004*\"blind\"'),\n",
       " (18,\n",
       "  '0.021*\"species\" + 0.017*\"animals\" + 0.015*\"plants\" + 0.013*\"forest\" + 0.013*\"nature\" + 0.012*\"tree\" + 0.012*\"plant\" + 0.011*\"trees\" + 0.011*\"birds\" + 0.008*\"animal\" + 0.008*\"bird\" + 0.008*\"insects\" + 0.007*\"bees\" + 0.007*\"soil\" + 0.006*\"natural\" + 0.006*\"forests\" + 0.006*\"eggs\" + 0.005*\"found\" + 0.005*\"grow\" + 0.005*\"dinosaurs\"'),\n",
       " (19,\n",
       "  '0.029*\"ocean\" + 0.024*\"fish\" + 0.023*\"sea\" + 0.015*\"ice\" + 0.012*\"water\" + 0.009*\"animals\" + 0.008*\"deep\" + 0.007*\"oceans\" + 0.007*\"boat\" + 0.007*\"coral\" + 0.007*\"fishing\" + 0.006*\"species\" + 0.006*\"marine\" + 0.006*\"sharks\" + 0.006*\"surface\" + 0.006*\"coast\" + 0.006*\"high\" + 0.005*\"places\" + 0.005*\"underwater\" + 0.005*\"north\"'),\n",
       " (20,\n",
       "  '0.066*\"light\" + 0.016*\"dark\" + 0.015*\"black\" + 0.012*\"image\" + 0.011*\"hole\" + 0.011*\"sky\" + 0.009*\"universe\" + 0.009*\"stars\" + 0.008*\"sun\" + 0.008*\"galaxy\" + 0.008*\"waves\" + 0.007*\"skin\" + 0.007*\"eyes\" + 0.007*\"galaxies\" + 0.007*\"night\" + 0.007*\"eye\" + 0.006*\"matter\" + 0.006*\"speed\" + 0.006*\"space\" + 0.006*\"color\"'),\n",
       " (21,\n",
       "  '0.022*\"question\" + 0.017*\"wrong\" + 0.015*\"answer\" + 0.014*\"questions\" + 0.010*\"problem\" + 0.010*\"bad\" + 0.010*\"true\" + 0.010*\"choice\" + 0.010*\"reason\" + 0.009*\"reality\" + 0.008*\"moral\" + 0.007*\"truth\" + 0.007*\"decisions\" + 0.007*\"hard\" + 0.007*\"asked\" + 0.006*\"decision\" + 0.006*\"news\" + 0.006*\"point\" + 0.006*\"choices\" + 0.006*\"case\"'),\n",
       " (22,\n",
       "  '0.018*\"law\" + 0.017*\"police\" + 0.012*\"violence\" + 0.011*\"prison\" + 0.011*\"case\" + 0.011*\"justice\" + 0.009*\"crime\" + 0.009*\"legal\" + 0.008*\"court\" + 0.008*\"system\" + 0.007*\"death\" + 0.007*\"rights\" + 0.006*\"laws\" + 0.006*\"gun\" + 0.006*\"jail\" + 0.005*\"state\" + 0.005*\"criminal\" + 0.005*\"public\" + 0.005*\"states\" + 0.005*\"judge\"'),\n",
       " (23,\n",
       "  '0.101*\"women\" + 0.049*\"men\" + 0.032*\"woman\" + 0.024*\"girls\" + 0.022*\"sex\" + 0.013*\"girl\" + 0.013*\"gender\" + 0.013*\"female\" + 0.013*\"male\" + 0.012*\"young\" + 0.011*\"sexual\" + 0.010*\"man\" + 0.009*\"boys\" + 0.006*\"body\" + 0.006*\"mother\" + 0.006*\"talk\" + 0.006*\"baby\" + 0.006*\"birth\" + 0.006*\"marriage\" + 0.005*\"babies\"'),\n",
       " (24,\n",
       "  '0.076*\"data\" + 0.026*\"car\" + 0.019*\"information\" + 0.012*\"problem\" + 0.010*\"cars\" + 0.010*\"understand\" + 0.008*\"start\" + 0.008*\"network\" + 0.008*\"big\" + 0.008*\"driving\" + 0.007*\"show\" + 0.007*\"drive\" + 0.007*\"map\" + 0.006*\"simple\" + 0.006*\"point\" + 0.006*\"road\" + 0.006*\"bit\" + 0.006*\"networks\" + 0.006*\"turns\" + 0.006*\"looked\"'),\n",
       " (25,\n",
       "  '0.016*\"company\" + 0.013*\"working\" + 0.013*\"job\" + 0.012*\"success\" + 0.012*\"ideas\" + 0.012*\"business\" + 0.012*\"idea\" + 0.011*\"team\" + 0.010*\"trust\" + 0.008*\"rules\" + 0.008*\"organization\" + 0.007*\"leadership\" + 0.007*\"successful\" + 0.007*\"start\" + 0.007*\"failure\" + 0.007*\"organizations\" + 0.007*\"build\" + 0.007*\"companies\" + 0.006*\"leaders\" + 0.006*\"innovation\"'),\n",
       " (26,\n",
       "  '0.053*\"percent\" + 0.047*\"000\" + 0.031*\"million\" + 0.028*\"number\" + 0.028*\"10\" + 0.022*\"1\" + 0.018*\"2\" + 0.017*\"100\" + 0.016*\"times\" + 0.016*\"half\" + 0.016*\"20\" + 0.015*\"30\" + 0.011*\"ago\" + 0.011*\"50\" + 0.011*\"3\" + 0.011*\"15\" + 0.011*\"numbers\" + 0.010*\"5\" + 0.009*\"billion\" + 0.008*\"60\"'),\n",
       " (27,\n",
       "  '0.038*\"change\" + 0.021*\"future\" + 0.019*\"social\" + 0.018*\"power\" + 0.012*\"society\" + 0.012*\"ways\" + 0.011*\"create\" + 0.010*\"powerful\" + 0.009*\"lives\" + 0.008*\"understand\" + 0.008*\"thinking\" + 0.008*\"changing\" + 0.007*\"share\" + 0.007*\"face\" + 0.007*\"action\" + 0.006*\"moment\" + 0.006*\"understanding\" + 0.006*\"past\" + 0.006*\"imagine\" + 0.006*\"opportunity\"'),\n",
       " (28,\n",
       "  '0.039*\"love\" + 0.028*\"feel\" + 0.013*\"fear\" + 0.012*\"felt\" + 0.012*\"person\" + 0.011*\"friends\" + 0.010*\"experience\" + 0.010*\"live\" + 0.009*\"talk\" + 0.009*\"feeling\" + 0.008*\"lives\" + 0.007*\"hard\" + 0.007*\"family\" + 0.006*\"call\" + 0.006*\"stories\" + 0.006*\"relationship\" + 0.006*\"afraid\" + 0.005*\"learned\" + 0.005*\"thought\" + 0.005*\"conversation\"'),\n",
       " (29,\n",
       "  '0.044*\"energy\" + 0.022*\"climate\" + 0.019*\"carbon\" + 0.016*\"oil\" + 0.014*\"air\" + 0.013*\"power\" + 0.012*\"change\" + 0.011*\"nuclear\" + 0.010*\"solar\" + 0.009*\"gas\" + 0.009*\"fuel\" + 0.009*\"electricity\" + 0.009*\"waste\" + 0.007*\"water\" + 0.007*\"global\" + 0.007*\"natural\" + 0.006*\"heat\" + 0.006*\"temperature\" + 0.006*\"wind\" + 0.006*\"co2\"'),\n",
       " (30,\n",
       "  '0.058*\"school\" + 0.053*\"kids\" + 0.044*\"children\" + 0.031*\"students\" + 0.025*\"education\" + 0.023*\"child\" + 0.017*\"parents\" + 0.015*\"learning\" + 0.014*\"high\" + 0.014*\"learn\" + 0.013*\"teachers\" + 0.013*\"schools\" + 0.012*\"teach\" + 0.012*\"class\" + 0.012*\"college\" + 0.011*\"teacher\" + 0.011*\"young\" + 0.010*\"student\" + 0.009*\"teaching\" + 0.009*\"kid\"'),\n",
       " (31,\n",
       "  '0.036*\"cells\" + 0.022*\"dna\" + 0.021*\"cell\" + 0.018*\"body\" + 0.013*\"bacteria\" + 0.010*\"genetic\" + 0.009*\"genes\" + 0.009*\"gene\" + 0.009*\"blood\" + 0.008*\"molecules\" + 0.008*\"genome\" + 0.008*\"biology\" + 0.007*\"tissue\" + 0.006*\"lab\" + 0.006*\"cancer\" + 0.006*\"stem\" + 0.006*\"microbes\" + 0.005*\"proteins\" + 0.005*\"human\" + 0.005*\"skin\"'),\n",
       " (32,\n",
       "  '0.045*\"technology\" + 0.031*\"computer\" + 0.020*\"machine\" + 0.014*\"computers\" + 0.014*\"human\" + 0.013*\"machines\" + 0.012*\"digital\" + 0.011*\"device\" + 0.010*\"software\" + 0.009*\"future\" + 0.009*\"phone\" + 0.009*\"technologies\" + 0.008*\"build\" + 0.008*\"real\" + 0.008*\"devices\" + 0.008*\"system\" + 0.007*\"built\" + 0.007*\"code\" + 0.007*\"video\" + 0.006*\"information\"'),\n",
       " (33,\n",
       "  '0.032*\"sort\" + 0.023*\"thought\" + 0.021*\"bit\" + 0.019*\"stuff\" + 0.019*\"started\" + 0.019*\"interesting\" + 0.017*\"idea\" + 0.015*\"pretty\" + 0.014*\"big\" + 0.014*\"basically\" + 0.013*\"paper\" + 0.013*\"wanted\" + 0.009*\"book\" + 0.009*\"couple\" + 0.009*\"thinking\" + 0.009*\"show\" + 0.009*\"guy\" + 0.008*\"figure\" + 0.008*\"happened\" + 0.008*\"end\"'),\n",
       " (34,\n",
       "  '0.067*\"food\" + 0.022*\"eat\" + 0.010*\"eating\" + 0.010*\"farmers\" + 0.008*\"feed\" + 0.008*\"farm\" + 0.007*\"sugar\" + 0.007*\"diet\" + 0.007*\"meat\" + 0.007*\"grow\" + 0.006*\"bread\" + 0.006*\"healthy\" + 0.006*\"taste\" + 0.006*\"fat\" + 0.006*\"coffee\" + 0.006*\"milk\" + 0.006*\"weight\" + 0.006*\"agriculture\" + 0.006*\"big\" + 0.005*\"cooking\"'),\n",
       " (35,\n",
       "  '0.033*\"black\" + 0.026*\"white\" + 0.024*\"american\" + 0.023*\"america\" + 0.012*\"states\" + 0.010*\"movement\" + 0.010*\"history\" + 0.010*\"americans\" + 0.010*\"race\" + 0.009*\"country\" + 0.009*\"united\" + 0.008*\"community\" + 0.008*\"african\" + 0.007*\"north\" + 0.007*\"young\" + 0.006*\"south\" + 0.006*\"color\" + 0.006*\"born\" + 0.006*\"rights\" + 0.005*\"gay\"'),\n",
       " (36,\n",
       "  '0.015*\"dog\" + 0.013*\"head\" + 0.010*\"dead\" + 0.009*\"gold\" + 0.008*\"bear\" + 0.007*\"dogs\" + 0.005*\"named\" + 0.005*\"bridge\" + 0.005*\"fire\" + 0.005*\"cat\" + 0.005*\"horse\" + 0.005*\"tail\" + 0.004*\"fight\" + 0.004*\"cats\" + 0.004*\"eventually\" + 0.004*\"bell\" + 0.004*\"alive\" + 0.004*\"hand\" + 0.004*\"set\" + 0.004*\"finally\"'),\n",
       " (37,\n",
       "  '0.023*\"community\" + 0.019*\"children\" + 0.013*\"family\" + 0.011*\"communities\" + 0.010*\"families\" + 0.010*\"poor\" + 0.010*\"lives\" + 0.009*\"country\" + 0.009*\"poverty\" + 0.009*\"care\" + 0.008*\"village\" + 0.008*\"living\" + 0.007*\"workers\" + 0.007*\"aid\" + 0.007*\"local\" + 0.007*\"health\" + 0.007*\"working\" + 0.007*\"home\" + 0.006*\"support\" + 0.006*\"refugees\"'),\n",
       " (38,\n",
       "  '0.038*\"money\" + 0.030*\"dollars\" + 0.020*\"business\" + 0.015*\"market\" + 0.015*\"companies\" + 0.012*\"buy\" + 0.012*\"pay\" + 0.010*\"company\" + 0.009*\"economy\" + 0.009*\"jobs\" + 0.008*\"percent\" + 0.008*\"industry\" + 0.007*\"economic\" + 0.007*\"financial\" + 0.007*\"sell\" + 0.007*\"price\" + 0.006*\"cost\" + 0.006*\"government\" + 0.006*\"paid\" + 0.006*\"product\"'),\n",
       " (39,\n",
       "  '0.076*\"music\" + 0.035*\"sound\" + 0.018*\"hear\" + 0.017*\"voice\" + 0.016*\"play\" + 0.015*\"sounds\" + 0.015*\"song\" + 0.010*\"dance\" + 0.009*\"singing\" + 0.009*\"noise\" + 0.009*\"listening\" + 0.008*\"listen\" + 0.008*\"piece\" + 0.008*\"la\" + 0.008*\"hearing\" + 0.007*\"playing\" + 0.007*\"love\" + 0.007*\"sing\" + 0.006*\"musical\" + 0.006*\"songs\"'),\n",
       " (40,\n",
       "  '0.033*\"system\" + 0.030*\"problem\" + 0.022*\"problems\" + 0.015*\"systems\" + 0.012*\"technology\" + 0.010*\"solution\" + 0.010*\"solve\" + 0.010*\"cost\" + 0.009*\"model\" + 0.008*\"resources\" + 0.008*\"approach\" + 0.007*\"solutions\" + 0.007*\"access\" + 0.007*\"important\" + 0.007*\"simply\" + 0.006*\"process\" + 0.006*\"working\" + 0.006*\"high\" + 0.006*\"basic\" + 0.006*\"provide\"'),\n",
       " (41,\n",
       "  '0.022*\"science\" + 0.020*\"universe\" + 0.016*\"theory\" + 0.012*\"physics\" + 0.011*\"space\" + 0.009*\"particles\" + 0.009*\"quantum\" + 0.009*\"number\" + 0.008*\"matter\" + 0.007*\"idea\" + 0.007*\"mathematics\" + 0.007*\"atoms\" + 0.006*\"einstein\" + 0.006*\"model\" + 0.006*\"force\" + 0.006*\"energy\" + 0.006*\"structure\" + 0.006*\"scientists\" + 0.006*\"mathematical\" + 0.006*\"pattern\"'),\n",
       " (42,\n",
       "  '0.045*\"play\" + 0.037*\"game\" + 0.024*\"video\" + 0.018*\"games\" + 0.017*\"playing\" + 0.013*\"show\" + 0.012*\"real\" + 0.008*\"win\" + 0.008*\"team\" + 0.008*\"feel\" + 0.007*\"television\" + 0.007*\"shows\" + 0.007*\"players\" + 0.007*\"fun\" + 0.006*\"watch\" + 0.006*\"experience\" + 0.006*\"tv\" + 0.006*\"player\" + 0.006*\"watching\" + 0.006*\"minutes\"'),\n",
       " (43,\n",
       "  '0.065*\"human\" + 0.021*\"humans\" + 0.014*\"evolution\" + 0.013*\"species\" + 0.012*\"ago\" + 0.011*\"beings\" + 0.009*\"natural\" + 0.007*\"animals\" + 0.006*\"evolved\" + 0.006*\"history\" + 0.006*\"evolutionary\" + 0.005*\"living\" + 0.005*\"ancestors\" + 0.005*\"question\" + 0.005*\"individual\" + 0.005*\"modern\" + 0.005*\"intelligence\" + 0.005*\"ants\" + 0.005*\"sense\" + 0.005*\"000\"'),\n",
       " (44,\n",
       "  '0.022*\"war\" + 0.017*\"political\" + 0.012*\"government\" + 0.011*\"country\" + 0.010*\"democracy\" + 0.009*\"power\" + 0.008*\"military\" + 0.008*\"politics\" + 0.007*\"states\" + 0.007*\"united\" + 0.006*\"security\" + 0.006*\"vote\" + 0.006*\"conflict\" + 0.006*\"peace\" + 0.006*\"president\" + 0.005*\"state\" + 0.005*\"citizens\" + 0.005*\"civil\" + 0.005*\"election\" + 0.005*\"iraq\"')]"
      ]
     },
     "execution_count": 9,
     "metadata": {},
     "output_type": "execute_result"
    }
   ],
   "source": [
    "# output of the 45 topics with 20 words in each topic\n",
    "ldamallet45.show_topics(num_topics=number_of_topics,num_words=words)"
   ]
  },
  {
   "cell_type": "markdown",
   "metadata": {},
   "source": [
    "## Convert to Gensim model format\n",
    "Convert the Mallet model to gensim format."
   ]
  },
  {
   "cell_type": "code",
   "execution_count": 10,
   "metadata": {},
   "outputs": [],
   "source": [
    "gensimmodel45 = gensim.models.wrappers.ldamallet.malletmodel2ldamodel(ldamallet45)"
   ]
  },
  {
   "cell_type": "markdown",
   "metadata": {},
   "source": [
    "## Get a coherence score"
   ]
  },
  {
   "cell_type": "code",
   "execution_count": 11,
   "metadata": {},
   "outputs": [
    {
     "name": "stdout",
     "output_type": "stream",
     "text": [
      "0.548369313740069\n"
     ]
    }
   ],
   "source": [
    "coherencemodel = CoherenceModel(model=gensimmodel45, texts=doc_clean, dictionary=dictionary, coherence='c_v')\n",
    "print (coherencemodel.get_coherence())"
   ]
  },
  {
   "cell_type": "markdown",
   "metadata": {},
   "source": [
    "## Calculate coherence scores for models with different numbers of topics\n",
    "\n",
    "\n",
    "The code block below will train a model with 35 topics and return the coherence score. "
   ]
  },
  {
   "cell_type": "code",
   "execution_count": 12,
   "metadata": {},
   "outputs": [
    {
     "name": "stdout",
     "output_type": "stream",
     "text": [
      "0.5491135315087162\n"
     ]
    }
   ],
   "source": [
    "ldamallet35 = LdaMallet(mallet_path, corpus=doc_term_matrix, num_topics=35, id2word=dictionary)\n",
    "gensimmodel35 = gensim.models.wrappers.ldamallet.malletmodel2ldamodel(ldamallet35)\n",
    "coherencemodel = CoherenceModel(model=gensimmodel35, texts=doc_clean, dictionary=dictionary, coherence='c_v')\n",
    "print (coherencemodel.get_coherence())"
   ]
  },
  {
   "cell_type": "markdown",
   "metadata": {},
   "source": [
    "## Test a range of topic sizes and plot the results"
   ]
  },
  {
   "cell_type": "markdown",
   "metadata": {},
   "source": [
    "**Important**: this process will take a while to run! Make sure you have tried a number topic sizes to get a sense of what models you need to test. I suggest you test no more than 8-10 models using the code below, so as not to be waiting too long!"
   ]
  },
  {
   "cell_type": "code",
   "execution_count": 13,
   "metadata": {},
   "outputs": [],
   "source": [
    "# supply values for k and the interval, eg 20, 60, 10 will train models for 20, 30, 40, 50, and 60 topics\n",
    "min_k = 10\n",
    "max_k = 70\n",
    "intervals = 15\n",
    "\n",
    "coherences = {}\n",
    "\n",
    "for i in range(min_k, max_k, intervals):\n",
    "    ldamalletmodel = LdaMallet(mallet_path, corpus=doc_term_matrix, num_topics=i, id2word=dictionary)\n",
    "    gensimmodel = gensim.models.wrappers.ldamallet.malletmodel2ldamodel(ldamalletmodel)\n",
    "    coherences[i] = CoherenceModel(model=gensimmodel, texts=doc_clean, dictionary=dictionary, coherence='c_v').get_coherence()"
   ]
  },
  {
   "cell_type": "code",
   "execution_count": 14,
   "metadata": {},
   "outputs": [],
   "source": [
    "# convert the coherence scores to a pandas dataframe\n",
    "df = pd.DataFrame.from_dict(coherences, orient='index', columns=['Coherence'])\n",
    "df['Topics'] = df.index"
   ]
  },
  {
   "cell_type": "code",
   "execution_count": 22,
   "metadata": {
    "scrolled": true
   },
   "outputs": [
    {
     "data": {
      "text/plain": [
       "<matplotlib.axes._subplots.AxesSubplot at 0x7fefc7ce8710>"
      ]
     },
     "execution_count": 22,
     "metadata": {},
     "output_type": "execute_result"
    },
    {
     "data": {
      "image/png": "[encoded data removed]",
      "text/plain": [
       "<Figure size 432x288 with 1 Axes>"
      ]
     },
     "metadata": {
      "needs_background": "light"
     },
     "output_type": "display_data"
    }
   ],
   "source": [
    "# plot the result\n",
    "df.plot(kind='line', x='Topics', y='Coherence')"
   ]
  },
  {
   "cell_type": "markdown",
   "metadata": {},
   "source": [
    "## Preview a document\n",
    "\n",
    "Preview a document - you can change the doc_id to view another document."
   ]
  },
  {
   "cell_type": "code",
   "execution_count": 16,
   "metadata": {},
   "outputs": [
    {
     "name": "stdout",
     "output_type": "stream",
     "text": [
      "How many decisions have been made about you today, or this week or this year, by artificial intelligence? I build AI for a living so, full disclosure, I'm kind of a nerd. And because I'm kind of a nerd, wherever some new news story comes out about artificial intelligence stealing all our jobs, or robots getting citizenship of an actual country, I'm the person my friends and followers message freaking out about the future. We see this everywhere. This media panic that our robot overlords are taking over. We could blame Hollywood for that. But in reality, that's not the problem we should be focusing on. There is a more pressing danger, a bigger risk with AI, that we need to fix first. So we are back to this question: How many decisions have been made about you today by AI? And how many of these were based on your gender, your race or your background? Algorithms are being used all the time to make decisions about who we are and what we want. Some of the women in this room will know what I'm talking about if you've been made to sit through those pregnancy test adverts on YouTube like 1,000 times. Or you've scrolled past adverts of fertility clinics on your Facebook feed. Or in my case, Indian marriage bureaus. (Laughter) But AI isn't just being used to make decisions about what products we want to buy or which show we want to binge watch next. I wonder how you'd feel about someone who thought things like this: \"A black or Latino person is less likely than a white person to pay off their loan on time.\" \"A person called John makes a better programmer than a person called Mary.\" \"A black man is more likely to be a repeat offender than a white man.\" You're probably thinking, \"Wow, that sounds like a pretty sexist, racist person,\" right? These are some real decisions that AI has made very recently, based on the biases it has learned from us, from the humans. AI is being used to help decide whether or not you get that job interview; how much you pay for your car insurance; how good your credit score is; and even what rating you get in your annual performance review. But these decisions are all being filtered through its assumptions about our identity, our race, our gender, our age. How is that happening? Now, imagine an AI is helping a hiring manager find the next tech leader in the company. So far, the manager has been hiring mostly men. So the AI learns men are more likely to be programmers than women. And it's a very short leap from there to: men make better programmers than women. We have reinforced our own bias into the AI. And now, it's screening out female candidates. Hang on, if a human hiring manager did that, we'd be outraged, we wouldn't allow it. This kind of gender discrimination is not OK. And yet somehow, AI has become above the law, because a machine made the decision. That's not it. We are also reinforcing our bias in how we interact with AI. How often do you use a voice assistant like Siri, Alexa or even Cortana? They all have two things in common: one, they can never get my name right, and second, they are all female. They are designed to be our obedient servants, turning your lights on and off, ordering your shopping. You get male AIs too, but they tend to be more high-powered, like IBM Watson, making business decisions, Salesforce Einstein or ROSS, the robot lawyer. So poor robots, even they suffer from sexism in the workplace. (Laughter) Think about how these two things combine and affect a kid growing up in today's world around AI. So they're doing some research for a school project and they Google images of CEO. The algorithm shows them results of mostly men. And now, they Google personal assistant. As you can guess, it shows them mostly females. And then they want to put on some music, and maybe order some food, and now, they are barking orders at an obedient female voice assistant. Some of our brightest minds are creating this technology today. Technology that they could have created in any way they wanted. And yet, they have chosen to create it in the style of 1950s \"Mad Man\" secretary. Yay! But OK, don't worry, this is not going to end with me telling you that we are all heading towards sexist, racist machines running the world. The good news about AI is that it is entirely within our control. We get to teach the right values, the right ethics to AI. So there are three things we can do. One, we can be aware of our own biases and the bias in machines around us. Two, we can make sure that diverse teams are building this technology. And three, we have to give it diverse experiences to learn from. I can talk about the first two from personal experience. When you work in technology and you don't look like a Mark Zuckerberg or Elon Musk, your life is a little bit difficult, your ability gets questioned. Here's just one example. Like most developers, I often join online tech forums and share my knowledge to help others. And I've found, when I log on as myself, with my own photo, my own name, I tend to get questions or comments like this: \"What makes you think you're qualified to talk about AI?\" \"What makes you think you know about machine learning?\" So, as you do, I made a new profile, and this time, instead of my own picture, I chose a cat with a jet pack on it. And I chose a name that did not reveal my gender. You can probably guess where this is going, right? So, this time, I didn't get any of those patronizing comments about my ability and I was able to actually get some work done. And it sucks, guys. I've been building robots since I was 15, I have a few degrees in computer science, and yet, I had to hide my gender in order for my work to be taken seriously. So, what's going on here? Are men just better at technology than women? Another study found that when women coders on one platform hid their gender, like myself, their code was accepted four percent more than men. So this is not about the talent. This is about an elitism in AI that says a programmer needs to look like a certain person. What we really need to do to make AI better is bring people from all kinds of backgrounds. We need people who can write and tell stories to help us create personalities of AI. We need people who can solve problems. We need people who face different challenges and we need people who can tell us what are the real issues that need fixing and help us find ways that technology can actually fix it. Because, when people from diverse backgrounds come together, when we build things in the right way, the possibilities are limitless. And that's what I want to end by talking to you about. Less racist robots, less machines that are going to take our jobs — and more about what technology can actually achieve. So, yes, some of the energy in the world of AI, in the world of technology is going to be about what ads you see on your stream. But a lot of it is going towards making the world so much better. Think about a pregnant woman in the Democratic Republic of Congo, who has to walk 17 hours to her nearest rural prenatal clinic to get a checkup. What if she could get diagnosis on her phone, instead? Or think about what AI could do for those one in three women in South Africa who face domestic violence. If it wasn't safe to talk out loud, they could get an AI service to raise alarm, get financial and legal advice. These are all real examples of projects that people, including myself, are working on right now, using AI. So, I'm sure in the next couple of days there will be yet another news story about the existential risk, robots taking over and coming for your jobs. (Laughter) And when something like that happens, I know I'll get the same messages worrying about the future. But I feel incredibly positive about this technology. This is our chance to remake the world into a much more equal place. But to do that, we need to build it the right way from the get go. We need people of different genders, races, sexualities and backgrounds. We need women to be the makers and not just the machines who do the makers' bidding. We need to think very carefully what we teach machines, what data we give them, so they don't just repeat our own past mistakes. So I hope I leave you thinking about two things. First, I hope you leave thinking about bias today. And that the next time you scroll past an advert that assumes you are interested in fertility clinics or online betting websites, that you think and remember that the same technology is assuming that a black man will reoffend. Or that a woman is more likely to be a personal assistant than a CEO. And I hope that reminds you that we need to do something about it. And second, I hope you think about the fact that you don't need to look a certain way or have a certain background in engineering or technology to create AI, which is going to be a phenomenal force for our future. You don't need to look like a Mark Zuckerberg, you can look like me. And it is up to all of us in this room to convince the governments and the corporations to build AI technology for everyone, including the edge cases. And for us all to get education about this phenomenal technology in the future. Because if we do that, then we've only just scratched the surface of what we can achieve with AI. Thank you. (Applause)\n"
     ]
    }
   ],
   "source": [
    "doc_id = 1082 # index of document to explore\n",
    "print(re.sub('\\s+', ' ', document_list[doc_id])) "
   ]
  },
  {
   "cell_type": "markdown",
   "metadata": {},
   "source": [
    "## Output the distribution of topics for the document\n",
    "\n",
    "The next cell outputs the distribution of topics on the document specified above."
   ]
  },
  {
   "cell_type": "code",
   "execution_count": 17,
   "metadata": {},
   "outputs": [
    {
     "name": "stdout",
     "output_type": "stream",
     "text": [
      "0.21 32 ['technology', 'computer', 'machine', 'computers', 'human', 'machines', 'digital', 'device', 'software', 'future', 'phone', 'technologies', 'build', 'real', 'devices', 'system', 'built', 'code', 'video', 'information']\n",
      "0.10 23 ['women', 'men', 'woman', 'girls', 'sex', 'girl', 'gender', 'female', 'male', 'young', 'sexual', 'man', 'boys', 'body', 'mother', 'talk', 'baby', 'birth', 'marriage', 'babies']\n",
      "0.08 6 ['internet', 'information', 'media', 'online', 'google', 'facebook', 'web', 'open', 'content', 'news', 'twitter', 'phone', 'public', 'website', 'email', 'social', 'share', 'free', 'page', 'government']\n",
      "0.07 21 ['question', 'wrong', 'answer', 'questions', 'problem', 'bad', 'true', 'choice', 'reason', 'reality', 'moral', 'truth', 'decisions', 'hard', 'asked', 'decision', 'news', 'point', 'choices', 'case']\n",
      "0.06 25 ['company', 'working', 'job', 'success', 'ideas', 'business', 'idea', 'team', 'trust', 'rules', 'organization', 'leadership', 'successful', 'start', 'failure', 'organizations', 'build', 'companies', 'leaders', 'innovation']\n",
      "0.05 16 ['guy', 'guys', 'talk', 'bad', 'call', 'talking', 'thinking', 'start', 'room', 'feel', 'yeah', 'person', 'show', 'stuff', 'kid', 'hey', 'remember', 'morning', 'god', 'stop']\n",
      "0.05 27 ['change', 'future', 'social', 'power', 'society', 'ways', 'create', 'powerful', 'lives', 'understand', 'thinking', 'changing', 'share', 'face', 'action', 'moment', 'understanding', 'past', 'imagine', 'opportunity']\n",
      "0.05 35 ['black', 'white', 'american', 'america', 'states', 'movement', 'history', 'americans', 'race', 'country', 'united', 'community', 'african', 'north', 'young', 'south', 'color', 'born', 'rights', 'gay']\n",
      "0.04 13 ['talk', 'idea', 'ca', 'ted', 'important', 'talking', 'amazing', 'bit', 'point', 'big', 'yeah', 'happen', 'ago', 'start', 'coming', 'change', 'wonderful', 'chris', 'absolutely', 'question']\n",
      "0.03 24 ['data', 'car', 'information', 'problem', 'cars', 'understand', 'start', 'network', 'big', 'driving', 'show', 'drive', 'map', 'simple', 'point', 'road', 'bit', 'networks', 'turns', 'looked']\n",
      "0.03 38 ['money', 'dollars', 'business', 'market', 'companies', 'buy', 'pay', 'company', 'economy', 'jobs', 'percent', 'industry', 'economic', 'financial', 'sell', 'price', 'cost', 'government', 'paid', 'product']\n",
      "0.02 22 ['law', 'police', 'violence', 'prison', 'case', 'justice', 'crime', 'legal', 'court', 'system', 'death', 'rights', 'laws', 'gun', 'jail', 'state', 'criminal', 'public', 'states', 'judge']\n",
      "0.02 0 ['body', 'robot', 'robots', 'fly', 'move', 'feet', 'legs', 'foot', 'air', 'flying', 'moving', 'control', 'speed', 'arm', 'flight', 'video', 'leg', 'side', 'ground', 'small']\n",
      "0.01 7 ['health', 'cancer', 'disease', 'medical', 'patients', 'care', 'patient', 'heart', 'treatment', 'doctors', 'blood', 'doctor', 'drug', 'hospital', 'medicine', 'drugs', 'hiv', 'diseases', 'surgery', 'risk']\n",
      "0.01 28 ['love', 'feel', 'fear', 'felt', 'person', 'friends', 'experience', 'live', 'talk', 'feeling', 'lives', 'hard', 'family', 'call', 'stories', 'relationship', 'afraid', 'learned', 'thought', 'conversation']\n",
      "0.01 12 ['study', 'research', 'found', 'social', 'group', 'science', 'studies', 'behavior', 'age', 'experiment', 'effect', 'turns', 'scientists', 'percent', 'person', 'older', 'test', 'positive', 'results', 'asked']\n",
      "0.01 30 ['school', 'kids', 'children', 'students', 'education', 'child', 'parents', 'learning', 'high', 'learn', 'teachers', 'schools', 'teach', 'class', 'college', 'teacher', 'young', 'student', 'teaching', 'kid']\n",
      "0.01 44 ['war', 'political', 'government', 'country', 'democracy', 'power', 'military', 'politics', 'states', 'united', 'security', 'vote', 'conflict', 'peace', 'president', 'state', 'citizens', 'civil', 'election', 'iraq']\n",
      "0.01 37 ['community', 'children', 'family', 'communities', 'families', 'poor', 'lives', 'country', 'poverty', 'care', 'village', 'living', 'workers', 'aid', 'local', 'health', 'working', 'home', 'support', 'refugees']\n",
      "0.01 39 ['music', 'sound', 'hear', 'voice', 'play', 'sounds', 'song', 'dance', 'singing', 'noise', 'listening', 'listen', 'piece', 'la', 'hearing', 'playing', 'love', 'sing', 'musical', 'songs']\n"
     ]
    }
   ],
   "source": [
    "document_topics = gensimmodel45.get_document_topics(doc_term_matrix[doc_id]) # substitute other models here\n",
    "document_topics = sorted(document_topics, key=lambda x: x[1], reverse=True) # sorts document topics\n",
    "\n",
    "for topic, prop in document_topics:\n",
    "    topic_words = [word[0] for word in gensimmodel45.show_topic(topic, 20)]\n",
    "    print (\"%.2f\" % prop, topic, topic_words)"
   ]
  },
  {
   "cell_type": "markdown",
   "metadata": {},
   "source": [
    "## Find similar documents\n",
    "This will find the 5 most similar documents to the document specified above based on their topic distribution. The MatrixSimilarity() method uses cosine similarity to measure how similar the document specified by `docid` is to all other documents for that model. There are better measures, but this one is quick and simple to implement."
   ]
  },
  {
   "cell_type": "code",
   "execution_count": 18,
   "metadata": {},
   "outputs": [
    {
     "name": "stdout",
     "output_type": "stream",
     "text": [
      "Document Index:  838\n",
      "Similarity Score 0.55921584\n",
      "After 13.8 billion years of cosmic history, our universe has woken up and become aware of itself. From a small blue planet, tiny, conscious parts of our universe have begun gazing out into the cosmos with telescopes, discovering something humbling. We've discovered that our universe is vastly grander than our ancestors imagined and that life seems to be an almost imperceptibly small perturbation on an otherwise dead universe. But we've also discovered something inspiring, which is that the techn ...\n",
      "\n",
      "Document Index:  2472\n",
      "Similarity Score 0.44443643\n",
      "I'm here to offer you a new way to think about my field, artificial intelligence. I think the purpose of AI is to empower humans with machine intelligence. And as machines get smarter, we get smarter. I call this \"humanistic AI\" — artificial intelligence designed to meet human needs by collaborating and augmenting people. Now, today I'm happy to see that the idea of an intelligent assistant is mainstream. It's the well-accepted metaphor for the interface between humans and AI. And the one I help ...\n",
      "\n",
      "Document Index:  1148\n",
      "Similarity Score 0.4228189\n",
      "I work on helping computers communicate about the world around us. There are a lot of ways to do this, and I like to focus on helping computers to talk about what they see and understand. Given a scene like this, a modern computer-vision algorithm can tell you that there's a woman and there's a dog. It can tell you that the woman is smiling. It might even be able to tell you that the dog is incredibly cute. I work on this problem thinking about how humans understand and process the world. The th ...\n",
      "\n",
      "Document Index:  2479\n",
      "Similarity Score 0.42236295\n",
      "I'm going to talk about how AI and mankind can coexist, but first, we have to rethink about our human values. So let me first make a confession about my errors in my values. It was 11 o'clock, December 16, 1991. I was about to become a father for the first time. My wife, Shen-Ling, lay in the hospital bed going through a very difficult 12-hour labor. I sat by her bedside but looked anxiously at my watch, and I knew something that she didn't. I knew that if in one hour, our child didn't come, I  ...\n",
      "\n",
      "Document Index:  1348\n",
      "Similarity Score 0.3931932\n",
      "I'm going to talk a little bit about where technology's going. And often technology comes to us, we're surprised by what it brings. But there's actually a large aspect of technology that's much more predictable, and that's because technological systems of all sorts have leanings, they have urgencies, they have tendencies. And those tendencies are derived from the very nature of the physics, chemistry of wires and switches and electrons, and they will make reoccurring patterns again and again. An ...\n",
      "\n"
     ]
    }
   ],
   "source": [
    "model_doc_topics = gensimmodel45.get_document_topics(doc_term_matrix) # substitute other models here\n",
    "lda_index = similarities.MatrixSimilarity(model_doc_topics.corpus)\n",
    "    \n",
    "# query for our doc_id from above\n",
    "similarity_index = lda_index[doc_term_matrix[doc_id]]\n",
    "# Sort the similarity index\n",
    "similarity_index = sorted(enumerate(similarity_index), key=lambda item: -item[1])\n",
    "\n",
    "for i in range(1,6): \n",
    "    document_id, similarity_score = similarity_index[i]\n",
    "    print('Document Index: ',document_id)\n",
    "    print('Similarity Score',similarity_score)\n",
    "    print(re.sub('\\s+', ' ', document_list[document_id][:500]), '...') # preview first 500 characters\n",
    "    print()"
   ]
  },
  {
   "cell_type": "code",
   "execution_count": 19,
   "metadata": {},
   "outputs": [
    {
     "name": "stdout",
     "output_type": "stream",
     "text": [
      "In this talk today, I want to present a different idea for why investing in early childhood education makes sense as a public investment. It's a different idea, because usually, when people talk about early childhood programs, they talk about all the wonderful benefits for participants in terms of former participants, in preschool, they have better K-12 test scores, better adult earnings. Now that's all very important, but what I want to talk about is what preschool does for state economies and for promoting state economic development. And that's actually crucial because if we're going to get increased investment in early childhood programs, we need to interest state governments in this. The federal government has a lot on its plate, and state governments are going to have to step up. So we have to appeal to them, the legislators in the state government, and turn to something they understand, that they have to promote the economic development of their state economy. Now, by promoting economic development, I don't mean anything magical. All I mean is, is that early childhood education can bring more and better jobs to a state and can thereby promote higher per capita earnings for the state's residents. Now, I think it's fair to say that when people think about state and local economic development, they don't generally think first about what they're doing about childcare and early childhood programs. I know this. I've spent most of my career researching these programs. I've talked to a lot of directors of state economic development agencies about these issues, a lot of legislators about these issues. When legislators and others think about economic development, what they first of all think about are business tax incentives, property tax abatements, job creation tax credits, you know, there are a million of these programs all over the place. So for example, states compete very vigorously to attract new auto plants or expanded auto plants. They hand out all kinds of business tax breaks. Now, those programs can make sense if they in fact induce new location decisions, and the way they can make sense is, by creating more and better jobs, they raise employment rates, raise per capita earnings of state residents. So there is a benefit to state residents that corresponds to the costs that they're paying by paying for these business tax breaks. My argument is essentially that early childhood programs can do exactly the same thing, create more and better jobs, but in a different way. It's a somewhat more indirect way. These programs can promote more and better jobs by, you build it, you invest in high-quality preschool, it develops the skills of your local workforce if enough of them stick around, and, in turn, that higher-quality local workforce will be a key driver of creating jobs and creating higher earnings per capita in the local community. Now, let me turn to some numbers on this. Okay. If you look at the research evidence — that's extensive — on how much early childhood programs affect the educational attainment, wages and skills of former participants in preschool as adults, you take those known effects, you take how many of those folks will be expected to stick around the state or local economy and not move out, and you take research on how much skills drive job creation, you will conclude, from these three separate lines of research, that for every dollar invested in early childhood programs, the per capita earnings of state residents go up by two dollars and 78 cents, so that's a three-to-one return. Now you can get much higher returns, of up to 16-to-one, if you include anti-crime benefits, if you include benefits to former preschool participants who move to some other state, but there's a good reason for focusing on these three dollars because this is salient and important to state legislators and state policy makers, and it's the states that are going to have to act. So there is this key benefit that is relevant to state policy makers in terms of economic development. Now, one objection you often hear, or maybe you don't hear it because people are too polite to say it, is, why should I pay more taxes to invest in other people's children? What's in it for me? And the trouble with that objection, it reflects a total misunderstanding of how much local economies involve everyone being interdependent. Specifically, the interdependency here is, is that there are huge spillovers of skills — that when other people's children get more skills, that actually increases the prosperity of everyone, including people whose skills don't change. So for example, numerous research studies have shown if you look at what really drives the growth rate of metropolitan areas, it's not so much low taxes, low cost, low wages; it's the skills of the area. Particularly, the proxy for skills that people use is percentage of college graduates in the area. So when you look, for example, at metropolitan areas such as the Boston area, Minneapolis-St. Paul, Silicon Valley, these areas are not doing well economically because they're low-cost. I don't know if you ever tried to buy a house in Silicon Valley. It's not exactly a low-cost proposition. They are growing because they have high levels of skills. So when we invest in other people's children, and build up those skills, we increase the overall job growth of a metro area. As another example, if we look at what determines an individual's wages, and we do statistical exploration of that, what determines wages, we know that the individual's wages will depend, in part, on that individual's education, for example whether or not they have a college degree. One of the very interesting facts is that, in addition, we find that even once we hold constant, statistically, the effect of your own education, the education of everyone else in your metropolitan area also affects your wages. So specifically, if you hold constant your education, you stick in percentage of college graduates in your metro area, you will find that has a significant positive effect on your wages without changing your education at all. In fact, this effect is so strong that when someone gets a college degree, the spillover effects of this on the wages of others in the metropolitan area are actually greater than the direct effects. So if someone gets a college degree, their lifetime earnings go up by a huge amount, over 700,000 dollars. There's an effect on everyone else in the metro area of driving up the percentage of college graduates in the metro area, and if you add that up — it's a small effect for each person, but if you add that up across all the people in the metro area, you actually get that the increase in wages for everyone else in the metropolitan area adds up to almost a million dollars. That's actually greater than the direct benefits of the person choosing to get education. Now, what's going on here? What can explain these huge spillover effects of education? Well, let's think about it this way. I can be the most skilled person in the world, but if everyone else at my firm lacks skills, my employer is going to find it more difficult to introduce new technology, new production techniques. So as a result, my employer is going to be less productive. They will not be able to afford to pay me as good wages. Even if everyone at my firm has good skills, if the workers at the suppliers to my firm do not have good skills, my firm is going to be less competitive competing in national and international markets. And again, the firm that's less competitive will not be able to pay as good wages, and then, particularly in high-tech businesses, they're constantly stealing ideas and workers from other businesses. So clearly the productivity of firms in Silicon Valley has a lot to do with the skills not only of the workers at their firm, but the workers at all the other firms in the metro area. So as a result, if we can invest in other people's children through preschool and other early childhood programs that are high-quality, we not only help those children, we help everyone in the metropolitan area gain in wages and we'll have the metropolitan area gain in job growth. Another objection used sometimes here to invest in early childhood programs is concern about people moving out. So, you know, maybe Ohio's thinking about investing in more preschool education for children in Columbus, Ohio, but they're worried that these little Buckeyes will, for some strange reason, decide to move to Ann Arbor, Michigan, and become Wolverines. And maybe Michigan will be thinking about investing in preschool in Ann Arbor, Michigan, and be worried these little Wolverines will end up moving to Ohio and becoming Buckeyes. And so they'll both underinvest because everyone's going to move out. Well, the reality is, if you look at the data, Americans aren't as hyper-mobile as people sometimes assume. The data is that over 60 percent of Americans spend most of their working careers in the state they were born in, over 60 percent. That percentage does not vary much from state to state. It doesn't vary much with the state's economy, whether it's depressed or booming, it doesn't vary much over time. So the reality is, if you invest in kids, they will stay. Or at least, enough of them will stay that it will pay off for your state economy. Okay, so to sum up, there is a lot of research evidence that early childhood programs, if run in a high-quality way, pay off in higher adult skills. There's a lot of research evidence that those folks will stick around the state economy, and there's a lot of evidence that having more workers with higher skills in your local economy pays off in higher wages and job growth for your local economy, and if you calculate the numbers for each dollar, we get about three dollars back in benefits for the state economy. So in my opinion, the research evidence is compelling and the logic of this is compelling. So what are the barriers to getting it done? Well, one obvious barrier is cost. So if you look at what it would cost if every state government invested in universal preschool at age four, full-day preschool at age four, the total annual national cost would be roughly 30 billion dollars. So, 30 billion dollars is a lot of money. On the other hand, if you reflect on that the U.S.'s population is over 300 million, we're talking about an amount of money that amounts to 100 dollars per capita. Okay? A hundred dollars per capita, per person, is something that any state government can afford to do. It's just a simple matter of political will to do it. And, of course, as I mentioned, this cost has corresponding benefits. I mentioned there's a multiplier of about three, 2.78, for the state economy, in terms of over 80 billion in extra earnings. And if we want to translate that from just billions of dollars to something that might mean something, what we're talking about is that, for the average low-income kid, that would increase earnings by about 10 percent over their whole career, just doing the preschool, not improving K-12 or anything else after that, not doing anything with college tuition or access, just directly improving preschool, and we would get five percent higher earnings for middle-class kids. So this is an investment that pays off in very concrete terms for a broad range of income groups in the state's population and produces large and tangible benefits. Now, that's one barrier. I actually think the more profound barrier is the long-term nature of the benefits from early childhood programs. So the argument I'm making is, is that we're increasing the quality of our local workforce, and thereby increasing economic development. Obviously if we have a preschool with four-year-olds, we're not sending these kids out at age five to work in the sweatshops, right? At least I hope not. So we're talking about an investment that in terms of impacts on the state economy is not going to really pay off for 15 or 20 years, and of course America is notorious for being a short term-oriented society. Now one response you can make to this, and I sometimes have done this in talks, is people can talk about, there are benefits for these programs in reducing special ed and remedial education costs, there are benefits, parents care about preschool, maybe we'll get some migration effects from parents seeking good preschool, and I think those are true, but in some sense they're missing the point. Ultimately, this is something we're investing in now for the future. And so what I want to leave you with is what I think is the ultimate question. I mean, I'm an economist, but this is ultimately not an economic question, it's a moral question: Are we willing, as Americans, are we as a society still capable of making the political choice to sacrifice now by paying more taxes in order to improve the long-term future of not only our kids, but our community? Are we still capable of that as a country? And that's something that each and every citizen and voter needs to ask themselves. Is that something that you are still invested in, that you still believe in the notion of investment? That is the notion of investment. You sacrifice now for a return later. So I think the research evidence on the benefits of early childhood programs for the local economy is extremely strong. However, the moral and political choice is still up to us, as citizens and as voters. Thank you very much. (Applause)\n"
     ]
    }
   ],
   "source": [
    "doc_id = 136 # index of document to explore\n",
    "print(re.sub('\\s+', ' ', document_list[doc_id])) "
   ]
  },
  {
   "cell_type": "code",
   "execution_count": 20,
   "metadata": {},
   "outputs": [
    {
     "name": "stdout",
     "output_type": "stream",
     "text": [
      "0.32 38 ['money', 'dollars', 'business', 'market', 'companies', 'buy', 'pay', 'company', 'economy', 'jobs', 'percent', 'industry', 'economic', 'financial', 'sell', 'price', 'cost', 'government', 'paid', 'product']\n",
      "0.16 30 ['school', 'kids', 'children', 'students', 'education', 'child', 'parents', 'learning', 'high', 'learn', 'teachers', 'schools', 'teach', 'class', 'college', 'teacher', 'young', 'student', 'teaching', 'kid']\n",
      "0.10 12 ['study', 'research', 'found', 'social', 'group', 'science', 'studies', 'behavior', 'age', 'experiment', 'effect', 'turns', 'scientists', 'percent', 'person', 'older', 'test', 'positive', 'results', 'asked']\n",
      "0.06 11 ['city', 'cities', 'public', 'place', 'live', 'york', 'community', 'home', 'street', 'places', 'building', 'urban', 'space', 'house', 'built', 'park', 'streets', 'neighborhood', 'local', 'living']\n",
      "0.05 8 ['countries', 'africa', 'china', 'country', 'india', 'global', 'growth', 'chinese', 'economic', 'states', 'united', 'african', 'europe', 'population', 'percent', 'economy', 'income', 'west', 'rich', 'century']\n",
      "0.05 21 ['question', 'wrong', 'answer', 'questions', 'problem', 'bad', 'true', 'choice', 'reason', 'reality', 'moral', 'truth', 'decisions', 'hard', 'asked', 'decision', 'news', 'point', 'choices', 'case']\n",
      "0.05 40 ['system', 'problem', 'problems', 'systems', 'technology', 'solution', 'solve', 'cost', 'model', 'resources', 'approach', 'solutions', 'access', 'important', 'simply', 'process', 'working', 'high', 'basic', 'provide']\n",
      "0.04 27 ['change', 'future', 'social', 'power', 'society', 'ways', 'create', 'powerful', 'lives', 'understand', 'thinking', 'changing', 'share', 'face', 'action', 'moment', 'understanding', 'past', 'imagine', 'opportunity']\n",
      "0.03 26 ['percent', '000', 'million', 'number', '10', '1', '2', '100', 'times', 'half', '20', '30', 'ago', '50', '3', '15', 'numbers', '5', 'billion', '60']\n",
      "0.03 13 ['talk', 'idea', 'ca', 'ted', 'important', 'talking', 'amazing', 'bit', 'point', 'big', 'yeah', 'happen', 'ago', 'start', 'coming', 'change', 'wonderful', 'chris', 'absolutely', 'question']\n",
      "0.02 44 ['war', 'political', 'government', 'country', 'democracy', 'power', 'military', 'politics', 'states', 'united', 'security', 'vote', 'conflict', 'peace', 'president', 'state', 'citizens', 'civil', 'election', 'iraq']\n",
      "0.01 25 ['company', 'working', 'job', 'success', 'ideas', 'business', 'idea', 'team', 'trust', 'rules', 'organization', 'leadership', 'successful', 'start', 'failure', 'organizations', 'build', 'companies', 'leaders', 'innovation']\n"
     ]
    }
   ],
   "source": [
    "document_topics = gensimmodel45.get_document_topics(doc_term_matrix[doc_id]) # substitute other models here\n",
    "document_topics = sorted(document_topics, key=lambda x: x[1], reverse=True) # sorts document topics\n",
    "\n",
    "for topic, prop in document_topics:\n",
    "    topic_words = [word[0] for word in gensimmodel45.show_topic(topic, 20)]\n",
    "    print (\"%.2f\" % prop, topic, topic_words)"
   ]
  },
  {
   "cell_type": "code",
   "execution_count": 21,
   "metadata": {},
   "outputs": [
    {
     "name": "stdout",
     "output_type": "stream",
     "text": [
      "Document Index:  2046\n",
      "Similarity Score 0.3059151\n",
      "Have you ever asked yourselves why it is that companies, the really cool companies, the innovative ones, the creative, new economy-type companies — Apple, Google, Facebook — are coming out of one particular country, the United States of America? Usually when I say this, someone says, \"Spotify! That's Europe.\" But, yeah. It has not had the impact that these other companies have had. Now what I do is I'm an economist, and I actually study the relationship between innovation and economic growth at ...\n",
      "\n",
      "Document Index:  2855\n",
      "Similarity Score 0.29231533\n",
      "I'm an historian. And what I love about being an historian is it gives you perspective. Today, I'd like to bring that perspective to education in the United States. About the only thing people can agree on is that the most strategic time for a child to start learning is early. Over 50 years ago, there was a watershed moment in early education in the US called \"Head Start.\" Now, historians love watersheds because it makes it so easy to talk about what came before and what's happened since. Befor ...\n",
      "\n",
      "Document Index:  1117\n",
      "Similarity Score 0.26828903\n",
      "You probably don't know me, but I am one of those .01 percenters that you hear about and read about, and I am by any reasonable definition a plutocrat. And tonight, what I would like to do is speak directly to other plutocrats, to my people, because it feels like it's time for us all to have a chat. Like most plutocrats, I too am a proud and unapologetic capitalist. I have founded, cofounded or funded over 30 companies across a range of industries. I was the first non-family investor in Amazon.c ...\n",
      "\n",
      "Document Index:  726\n",
      "Similarity Score 0.26803243\n",
      "The world is changing with really remarkable speed. If you look at the chart at the top here, you'll see that in 2025, these Goldman Sachs projections suggest that the Chinese economy will be almost the same size as the American economy. And if you look at the chart for 2050, it's projected that the Chinese economy will be twice the size of the American economy, and the Indian economy will be almost the same size as the American economy. And we should bear in mind here that these projections wer ...\n",
      "\n",
      "Document Index:  3402\n",
      "Similarity Score 0.26561737\n",
      "Well, this is about state budgets. This is probably the most boring topic of the whole morning. But I want to tell you, I think it's an important topic that we need to care about. State budgets are big, big money — I'll show you the numbers — and they get very little scrutiny. The understanding is very low. Many of the people involved have special interests or short-term interests that get them not thinking about what the implications of the trends are. And these budgets are the key for our futu ...\n",
      "\n"
     ]
    }
   ],
   "source": [
    "model_doc_topics = gensimmodel45.get_document_topics(doc_term_matrix) # substitute other models here\n",
    "lda_index = similarities.MatrixSimilarity(model_doc_topics.corpus)\n",
    "    \n",
    "# query for our doc_id from above\n",
    "similarity_index = lda_index[doc_term_matrix[doc_id]]\n",
    "# Sort the similarity index\n",
    "similarity_index = sorted(enumerate(similarity_index), key=lambda item: -item[1])\n",
    "\n",
    "for i in range(1,6): \n",
    "    document_id, similarity_score = similarity_index[i]\n",
    "    print('Document Index: ',document_id)\n",
    "    print('Similarity Score',similarity_score)\n",
    "    print(re.sub('\\s+', ' ', document_list[document_id][:500]), '...') # preview first 500 characters\n",
    "    print()"
   ]
  }
 ],
 "metadata": {
  "kernelspec": {
   "display_name": "Python 3",
   "language": "python",
   "name": "python3"
  },
  "language_info": {
   "codemirror_mode": {
    "name": "ipython",
    "version": 3
   },
   "file_extension": ".py",
   "mimetype": "text/x-python",
   "name": "python",
   "nbconvert_exporter": "python",
   "pygments_lexer": "ipython3",
   "version": "3.8.4"
  }
 },
 "nbformat": 4,
 "nbformat_minor": 4
}
